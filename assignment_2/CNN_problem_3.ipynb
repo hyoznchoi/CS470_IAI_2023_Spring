{
  "cells": [
    {
      "cell_type": "markdown",
      "metadata": {
        "id": "view-in-github",
        "colab_type": "text"
      },
      "source": [
        "<a href=\"https://colab.research.google.com/github/pidipidi/CS470_IAI_2023_Spring/blob/main/assignment_2/CNN_problem_3.ipynb\" target=\"_parent\"><img src=\"https://colab.research.google.com/assets/colab-badge.svg\" alt=\"Open In Colab\"/></a>"
      ]
    },
    {
      "cell_type": "markdown",
      "metadata": {
        "id": "UEXqCDmc4f6Y"
      },
      "source": [
        "# Problem 3. Comparison of MLP and CNN\n",
        "In this assignment, you will compare two models ( MLP & CNN)"
      ]
    },
    {
      "cell_type": "markdown",
      "metadata": {
        "id": "c9fNcMT74mZX"
      },
      "source": [
        "\n",
        "\n",
        "\n",
        "## Import libraries including PyTorch"
      ]
    },
    {
      "cell_type": "code",
      "execution_count": null,
      "metadata": {
        "id": "y9Ril33Vw2FB"
      },
      "outputs": [],
      "source": [
        "#Importing all libraries\n",
        "import os\n",
        "import time\n",
        "import numpy as np\n",
        "import pandas as pd\n",
        "import torch\n",
        "import torch.nn as nn\n",
        "import torch.nn.functional as F\n",
        "from torch.utils.data import Dataset\n",
        "from torch.utils.data import DataLoader\n",
        "import torchvision\n",
        "import torchvision.transforms as transforms\n",
        "import PIL\n",
        "from PIL import Image\n",
        "from torchvision import datasets \n"
      ]
    },
    {
      "cell_type": "markdown",
      "metadata": {
        "id": "rK9eUV4V-XaU"
      },
      "source": [
        "## Load the data"
      ]
    },
    {
      "cell_type": "code",
      "execution_count": null,
      "metadata": {
        "id": "6f4W6thRw8HA"
      },
      "outputs": [],
      "source": [
        "train_transform = transforms.Compose(\n",
        "    [#transforms.RandomHorizontalFlip(p=0.5),\n",
        "     #transforms.RandomAffine(degrees=(-5, 5), translate=(0.1, 0.1), scale=(0.9, 1.1), resample=PIL.Image.BILINEAR), ##DATA AUGMENTATION \n",
        "     transforms.ToTensor(),\n",
        "     transforms.Normalize((0.5), (0.5))\n",
        "     ])\n",
        "\n",
        "test_transform = transforms.Compose(\n",
        "    [\n",
        "     transforms.ToTensor(),\n",
        "     transforms.Normalize((0.5), (0.5))\n",
        "     ])\n",
        "\n",
        "dataset = torchvision.datasets.FashionMNIST(root='./data', train=True, download=True, transform=train_transform)\n",
        "train_set, val_set = torch.utils.data.random_split(dataset, [50000, 10000])\n",
        "\n",
        "train_loader = torch.utils.data.DataLoader(train_set, batch_size=128, shuffle=True, num_workers=8)\n",
        "val_loader = torch.utils.data.DataLoader(val_set, batch_size=128, shuffle=False, num_workers=8)\n",
        "\n",
        "test_set = torchvision.datasets.FashionMNIST(root='./data', train=False, download=True, transform=test_transform)\n",
        "test_loader = torch.utils.data.DataLoader(test_set, batch_size=128, shuffle=False, num_workers=8)\n",
        "\n",
        "classes = [\"T-shirt/top\", \"Trouser\", \"Pullover\", \"Dress\", \"Coat\", \"Sandal\", \"Shirt\", \"Sneaker\", \"Bag\", \"Ankle boot\"]   \n"
      ]
    },
    {
      "cell_type": "markdown",
      "metadata": {
        "id": "yICrp7NCVA2S"
      },
      "source": [
        "## A CNN Model with MaxPooling layers from Problem 2\n",
        "You can copy the model below. Then, train and obtain the necessary analyzation data.\n"
      ]
    },
    {
      "cell_type": "code",
      "execution_count": null,
      "metadata": {
        "id": "uGPzyawaVPSv"
      },
      "outputs": [],
      "source": [
        "\"\"\"\n",
        "\n",
        "USE CNN Model from Problem 2 in CNN_problem_2.ipynb\n",
        "\n",
        "\"\"\"\n",
        "###########################################################################\n",
        "# PLACE YOUR CODE HERE                                                    #\n",
        "###########################################################################\n",
        "     \n",
        "\n",
        "# END OF YOUR CODE                           \n",
        "###########################################################################"
      ]
    },
    {
      "cell_type": "code",
      "source": [
        "\"\"\"\n",
        "\n",
        "Train the CNN model\n",
        "\n",
        "\"\"\"\n",
        "###########################################################################\n",
        "# PLACE YOUR CODE HERE                                                    #\n",
        "###########################################################################\n",
        "     \n",
        "\n",
        "# END OF YOUR CODE                           \n",
        "###########################################################################"
      ],
      "metadata": {
        "id": "-ncm2t7VsZqD"
      },
      "execution_count": null,
      "outputs": []
    },
    {
      "cell_type": "code",
      "execution_count": null,
      "metadata": {
        "id": "qFPFNwEHVrED"
      },
      "outputs": [],
      "source": [
        "\"\"\"\n",
        "\n",
        "Visualize a plot of validation accuracy curves from\n",
        "the two models\n",
        "\n",
        "\"\"\"\n",
        "###########################################################################\n",
        "# PLACE YOUR CODE HERE                                                    #\n",
        "###########################################################################\n",
        "     \n",
        "\n",
        "# END OF YOUR CODE                           \n",
        "###########################################################################"
      ]
    },
    {
      "cell_type": "markdown",
      "source": [
        "## An MLP model with ReLU layers similar to the assignment 1"
      ],
      "metadata": {
        "id": "Ak9BJM-tsivN"
      }
    },
    {
      "cell_type": "code",
      "source": [
        "import torch.nn as nn\n",
        "import torch.nn.functional as F\n",
        "\n",
        "# Problem 2: Implementing your own CNN\n",
        "# a. Convolution and MaxPooling layers\n",
        "\n",
        "\n",
        "class MLP(nn.Module):\n",
        "  \"\"\"\n",
        "  A multilayer perceptrons (MLP). In this MLP object, we will use following\n",
        "  dimensions:\n",
        "\n",
        "  input_size: the dimension d of the input data.                        \n",
        "  hidden_size: the number of neurons h in the hidden layer.             \n",
        "  output_size: the number of classes c, which is 10 in our task          \n",
        "  \"\"\"\n",
        "  def __init__(self):\n",
        "    \"\"\"\n",
        "    An initialization function. This object of network is a simple feed-forward \n",
        "    network. It takes an input to pass to muitiple layers. Then, provide the \n",
        "    output. The layers are initialized after their creation. \n",
        "\n",
        "    Parameters\n",
        "    ----------\n",
        "    N/A\n",
        "    \"\"\"\n",
        "    super(MLP, self).__init__()\n",
        "\n",
        "    #############################################################################\n",
        "    # PLACE YOUR CODE HERE                                                      #\n",
        "    ############################################################################# \n",
        "    # TODO: design your fully connected layers\n",
        "    # E.g., self.fc1 = ?, self.fc2 = ?, self.fc3 = ? \n",
        "\n",
        "\n",
        "\n",
        "\n",
        "    #############################################################################\n",
        "   \n",
        "\n",
        "  def forward(self, x):\n",
        "    \"\"\"\n",
        "    A forward pass function. Using the pre-defined network modules, we can here \n",
        "    build a model designing its structure. \n",
        "\n",
        "    Parameters\n",
        "    ---------- \n",
        "    x: matrix  \n",
        "      an input data of shape (1, d, d), where d is the dimension of the input \n",
        "      image. \n",
        "  \n",
        "    Returns\n",
        "    ---------- \n",
        "    out:     \n",
        "      an output data given x.\n",
        "\n",
        "    \"\"\"\n",
        "    #############################################################################\n",
        "    # PLACE YOUR CODE HERE                                                      #\n",
        "    ############################################################################# \n",
        "    # TODO: construct the fully connected neural network given x\n",
        "    # out = ?\n",
        "\n",
        "\n",
        "\n",
        "\n",
        "    #############################################################################\n",
        "\n",
        "    return out\n",
        "\n",
        "# create a CNN object\n",
        "net = MLP()\n",
        "device = torch.device(\"cuda:0\" if torch.cuda.is_available() else \"cpu\")\n",
        "print('Device:', device)\n",
        "net.to(device)\n",
        "\n",
        "num_params = sum(p.numel() for p in net.parameters() if p.requires_grad)\n",
        "print(\"Number of trainable parameters:\", num_params)\n",
        "\n",
        "from torchsummary import summary\n",
        "summary(net,(1,28,28))"
      ],
      "metadata": {
        "id": "TcMFS6gOsowL"
      },
      "execution_count": null,
      "outputs": []
    },
    {
      "cell_type": "code",
      "source": [
        "import torch.optim as optim\n",
        "\n",
        "\"\"\"\n",
        "\n",
        " You have to define the loss, for that please use cross entropy loss      \n",
        " Also, you must implement optimizer called Adam.                           \n",
        "\n",
        "\"\"\"\n",
        "\n",
        "#############################################################################\n",
        "# PLACE YOUR CODE HERE                                                      #\n",
        "############################################################################# \n",
        "# TODO: declare your optimizer\n",
        "# criterion = ?\n",
        "# optimizer = ? \n",
        "\n",
        "\n",
        "\n",
        "#############################################################################\n",
        "scheduler = optim.lr_scheduler.ReduceLROnPlateau(optimizer, mode='min', factor=0.1, patience=10, verbose=True)\n",
        "\n",
        "loss_hist, acc_hist = [], []\n",
        "loss_hist_val, acc_hist_val = [], []\n",
        "\n",
        "for epoch in range(30):\n",
        "  running_loss = 0.0\n",
        "  correct = 0\n",
        "  for data in train_loader:\n",
        "    batch, labels = data\n",
        "    batch, labels = batch.to(device), labels.to(device)\n",
        "\n",
        "    \"\"\"\n",
        "\n",
        "    First, set the gradients to zero. Then obtain predictions from your CNN   \n",
        "    model. After that, pass into loss to calculate the difference between the \n",
        "    prediction and labels. Next, you have to compute the gradients with       \n",
        "    respect to the tensor.  \n",
        "\n",
        "\n",
        "    \"\"\"\n",
        "    #############################################################################\n",
        "    # PLACE YOUR CODE HERE                                                      #\n",
        "    ############################################################################# \n",
        "    # todo optimizer and loss\n",
        "\n",
        "\n",
        "\n",
        "\n",
        "    #############################################################################\n",
        "    optimizer.step()\n",
        "\n",
        "    # compute training statistics\n",
        "    _, predicted = torch.max(outputs, 1)\n",
        "    correct += (predicted == labels).sum().item()\n",
        "    running_loss += loss.item()\n",
        "\n",
        "  avg_loss = running_loss / len(train_set)\n",
        "  avg_acc = correct / len(train_set)\n",
        "  loss_hist.append(avg_loss)\n",
        "  acc_hist.append(avg_acc)\n",
        "\n",
        "  # validation statistics\n",
        "  net.eval()\n",
        "  with torch.no_grad():\n",
        "    loss_val = 0.0\n",
        "    correct_val = 0\n",
        "    for data in val_loader:\n",
        "      batch, labels = data\n",
        "      batch, labels = batch.to(device), labels.to(device)\n",
        "      outputs = net(batch)\n",
        "      loss = criterion(outputs, labels)\n",
        "      _, predicted = torch.max(outputs, 1)\n",
        "      correct_val += (predicted == labels).sum().item()\n",
        "      loss_val += loss.item()\n",
        "    avg_loss_val = loss_val / len(val_set)\n",
        "    avg_acc_val = correct_val / len(val_set)\n",
        "    loss_hist_val.append(avg_loss_val)\n",
        "    acc_hist_val.append(avg_acc_val)\n",
        "  net.train()\n",
        "\n",
        "  scheduler.step(avg_loss_val)\n",
        "  print('[epoch %d] loss: %.5f accuracy: %.4f val loss: %.5f val accuracy: %.4f' % (epoch + 1, avg_loss, avg_acc, avg_loss_val, avg_acc_val))\n",
        "     "
      ],
      "metadata": {
        "id": "i9BXH3gCubf-"
      },
      "execution_count": null,
      "outputs": []
    },
    {
      "cell_type": "code",
      "source": [
        "import matplotlib.pyplot as plt\n",
        "\n",
        "\"\"\"\n",
        "\n",
        "  You have to plot two graphs, one for loss of training and validation data \n",
        "  and second one for accuarcy of training and validation data.              \n",
        "  Set x-axis to number of epochs and y-axis to loss or accuracy. Set legend \n",
        "  equal to training and validation set.                                      \n",
        "\n",
        "\"\"\"\n",
        "legend = ['Train', 'Validation']\n",
        "#############################################################################\n",
        "# PLACE YOUR CODE HERE                                                      #\n",
        "############################################################################# \n",
        "\n",
        "\n",
        "\n",
        "\n",
        "\n",
        "#############################################################################\n",
        "#                              END OF YOUR CODE                             #\n",
        "#############################################################################\n",
        "plt.legend(legend, loc='upper left')\n",
        "plt.show()\n"
      ],
      "metadata": {
        "id": "1qIzXHoRu1Sz"
      },
      "execution_count": null,
      "outputs": []
    }
  ],
  "metadata": {
    "accelerator": "GPU",
    "colab": {
      "provenance": []
    },
    "gpuClass": "standard",
    "kernelspec": {
      "display_name": "Python 3.8.0 ('abstractions')",
      "language": "python",
      "name": "python3"
    },
    "language_info": {
      "name": "python",
      "version": "3.8.0"
    },
    "vscode": {
      "interpreter": {
        "hash": "8721cd82b25f1a887178f41bbb75d5669cbe3b96236e66242c2a570ade540c23"
      }
    }
  },
  "nbformat": 4,
  "nbformat_minor": 0
}