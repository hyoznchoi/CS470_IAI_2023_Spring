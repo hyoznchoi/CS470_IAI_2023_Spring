{
  "cells": [
    {
      "cell_type": "markdown",
      "metadata": {
        "id": "view-in-github",
        "colab_type": "text"
      },
      "source": [
        "<a href=\"https://colab.research.google.com/github/pidipidi/CS470_IAI_2023_Spring/blob/main/assignment_2/CNN_problem_1.ipynb\" target=\"_parent\"><img src=\"https://colab.research.google.com/assets/colab-badge.svg\" alt=\"Open In Colab\"/></a>"
      ]
    },
    {
      "cell_type": "markdown",
      "metadata": {
        "id": "W02QTcZ9Qc2C"
      },
      "source": [
        "# Problem 1: Convolution operations using NumPy"
      ]
    },
    {
      "cell_type": "markdown",
      "metadata": {
        "id": "4tNgDP9VlkEG"
      },
      "source": [
        "### Import necessary libraries"
      ]
    },
    {
      "cell_type": "code",
      "execution_count": null,
      "metadata": {
        "id": "dtPFNagCuNp9"
      },
      "outputs": [],
      "source": [
        "import torch\n",
        "import torch.nn as nn\n",
        "import torch.nn.functional as F\n",
        "import torch.optim as optim\n",
        "from torchvision import datasets, transforms\n",
        "from torch.autograd import Variable\n",
        "import itertools"
      ]
    },
    {
      "cell_type": "markdown",
      "metadata": {
        "id": "yGfg9x-LQqKb"
      },
      "source": [
        "### Download the MNIST dataset and visualize samples"
      ]
    },
    {
      "cell_type": "code",
      "execution_count": null,
      "metadata": {
        "id": "Chtyv6ODuboJ"
      },
      "outputs": [],
      "source": [
        "torch.manual_seed(0)\n",
        "batch_size = 50\n",
        "train_loader = torch.utils.data.DataLoader(\n",
        "    datasets.MNIST('data', train=True, download=True, transform=transforms.ToTensor()),\n",
        "    batch_size=batch_size, shuffle=True)"
      ]
    },
    {
      "cell_type": "markdown",
      "metadata": {
        "id": "FVHBIOhfuuyL"
      },
      "source": [
        "You can check what kind of training images are in the MNIST dataset."
      ]
    },
    {
      "cell_type": "code",
      "execution_count": null,
      "metadata": {
        "id": "VqNU064huwd6"
      },
      "outputs": [],
      "source": [
        "import matplotlib.pyplot as plt\n",
        "import numpy as np\n",
        "torch.manual_seed(1)\n",
        "\n",
        "figure = plt.figure(figsize=(8, 8))\n",
        "cols, rows = 3, 3\n",
        "for i in range(1, cols * rows + 1):\n",
        "    sample_idx = torch.randint(len(train_loader.dataset), size=(1,)).item()\n",
        "    img, label = train_loader.dataset[sample_idx]\n",
        "    figure.add_subplot(rows, cols, i)\n",
        "    plt.title(label)\n",
        "    plt.axis(\"off\")\n",
        "    plt.imshow(img.squeeze(), cmap=\"gray\")\n",
        "plt.show()"
      ]
    },
    {
      "cell_type": "markdown",
      "metadata": {
        "id": "qz1O9u85nUcU"
      },
      "source": [
        "We then define three filters used in convolution operations:"
      ]
    },
    {
      "cell_type": "code",
      "execution_count": null,
      "metadata": {
        "id": "drLji0aMnSz6"
      },
      "outputs": [],
      "source": [
        "kernel_1 = [[1,0,0,0,0],\n",
        "            [0,1,0,0,0],\n",
        "            [0,0,1,0,0],\n",
        "            [0,0,0,1,0],\n",
        "            [0,0,0,0,1]]\n",
        "\n",
        "kernel_2 = [[0,0,1,0,0],\n",
        "            [0,0,1,0,0],\n",
        "            [0,0,1,0,0],\n",
        "            [0,0,1,0,0],\n",
        "            [0,0,1,0,0]]\n",
        "\n",
        "kernel_3 = [[0,0,0,0,1],\n",
        "            [0,0,0,1,0],\n",
        "            [0,0,1,0,0],\n",
        "            [0,1,0,0,0],\n",
        "            [1,0,0,0,0]]\n",
        "filters = np.asarray([[kernel_1], [kernel_2], [kernel_3]])"
      ]
    },
    {
      "cell_type": "markdown",
      "metadata": {
        "id": "VsLp-wJil0gB"
      },
      "source": [
        "We also define a visualization function for later uses."
      ]
    },
    {
      "cell_type": "code",
      "execution_count": null,
      "metadata": {
        "id": "GMc615LIlzi0"
      },
      "outputs": [],
      "source": [
        "def visualize_conv(img_0, img_filtered, img_pooled):\n",
        "    \"\"\"\n",
        "    A 2D Convolution filter\n",
        "\n",
        "    Parameters\n",
        "    ---------- \n",
        "    img_0: matrix  \n",
        "      an original image.\n",
        "    img_filtered: \n",
        "      a list of images after applying convolution filters\n",
        "    img_pooled:\n",
        "      a list of images after applying convolution filters + avg pooling\n",
        "    \"\"\"\n",
        "\n",
        "    figure = plt.figure(figsize=(8, 4))\n",
        "    figure.add_subplot(2, 4, 1)\n",
        "    plt.title(\"Original\")\n",
        "    plt.axis(\"off\")\n",
        "    plt.imshow(img_0.squeeze(), cmap=\"gray\")\n",
        "\n",
        "    figure.add_subplot(2, 4, 2)\n",
        "    plt.title(\"Filter 1\")\n",
        "    plt.axis(\"off\")\n",
        "    plt.imshow(img_filtered[0].squeeze(), cmap=\"gray\")\n",
        "\n",
        "    figure.add_subplot(2, 4, 3)\n",
        "    plt.title(\"Filter 2\")\n",
        "    plt.axis(\"off\")\n",
        "    plt.imshow(img_filtered[1].squeeze(), cmap=\"gray\")\n",
        "\n",
        "    figure.add_subplot(2, 4, 4)\n",
        "    plt.title(\"Filter 3\")\n",
        "    plt.axis(\"off\")\n",
        "    plt.imshow(img_filtered[2].squeeze(), cmap=\"gray\")            \n",
        "\n",
        "    figure.add_subplot(2, 4, 6)\n",
        "    plt.title(\"Filter1 + Pooling\")\n",
        "    plt.axis(\"off\")\n",
        "    plt.imshow(img_pooled[0].squeeze(), cmap=\"gray\")\n",
        "\n",
        "    figure.add_subplot(2, 4, 7)\n",
        "    plt.title(\"Filter 2 + Pooling\")\n",
        "    plt.axis(\"off\")\n",
        "    plt.imshow(img_pooled[1].squeeze(), cmap=\"gray\")\n",
        "\n",
        "    figure.add_subplot(2, 4, 8)\n",
        "    plt.title(\"Filter 3 + Pooling\")\n",
        "    plt.axis(\"off\")\n",
        "    plt.imshow(img_pooled[2].squeeze(), cmap=\"gray\")     "
      ]
    },
    {
      "cell_type": "markdown",
      "metadata": {
        "id": "IP6giFKGuk2N"
      },
      "source": [
        "## Convolution + AvgPooling with Numpy \n",
        "In this part, we create convolution and pooling functions by only using NumPy."
      ]
    },
    {
      "cell_type": "code",
      "execution_count": null,
      "metadata": {
        "id": "JzFnc_QoMtlh"
      },
      "outputs": [],
      "source": [
        "def convolution(X, filters, stride_size=1, pad_size=0):\n",
        "    \"\"\"\n",
        "    Applies a 2D convolution over an input signal\n",
        "\n",
        "    Parameters\n",
        "    ---------- \n",
        "    X: Numpy Array\n",
        "      an input data of shape (c, h, w), where h and w is the height and width\n",
        "      of the input image. Note that we use black-white images so the number of \n",
        "      channel c is 1.\n",
        "  \n",
        "    Returns\n",
        "    ---------- \n",
        "    out:     \n",
        "      an output data given X.\n",
        "    \"\"\"\n",
        "    c, h, w = X.shape\n",
        "    n_f, _, filter_h, filter_w = filters.shape\n",
        "\n",
        "    out_h = (h + 2 * pad_size - filter_h) // stride_size + 1\n",
        "    out_w = (w + 2 * pad_size - filter_w) // stride_size + 1\n",
        "\n",
        "    # add padding to height and width.\n",
        "    in_X = np.pad(X, [(0, 0), (pad_size, pad_size), (pad_size, pad_size)], 'constant')\n",
        "    out  = np.zeros((n_f, out_h, out_w))\n",
        "\n",
        "    #############################################################################\n",
        "    # PLACE YOUR CODE HERE                                                      #\n",
        "    ############################################################################# \n",
        "    # Apply the convolution filters     \n",
        "\n",
        "\n",
        "\n",
        "\n",
        "\n",
        "    #############################################################################\n",
        "    return out\n",
        "\n",
        "def avg_pooling(X, pool_size=2, stride_size=2):\n",
        "    \"\"\"\n",
        "    Applies a 2D average pooling over an input signal\n",
        "\n",
        "    Parameters\n",
        "    ---------- \n",
        "    X: Numpy Array  \n",
        "      an input data of shape (c, h, w), where c, h, and w are the number of \n",
        "      channels, the height, and the width of the input image. \n",
        "  \n",
        "    Returns\n",
        "    ---------- \n",
        "    pool_out:     \n",
        "      an output data given X.\n",
        "    \"\"\"\n",
        "    c, h, w = X.shape\n",
        "\n",
        "    #Preparing the output of the pooling operation.\n",
        "    pool_out = np.zeros((c, \n",
        "                         np.uint16((h-pool_size)/stride_size)+1,\n",
        "                         np.uint16((w-pool_size)/stride_size)+1,\n",
        "                         ))\n",
        "    \n",
        "    #############################################################################\n",
        "    # PLACE YOUR CODE HERE                                                      #\n",
        "    #############################################################################     \n",
        "    # Apply average pooling\n",
        "     \n",
        "\n",
        "\n",
        "\n",
        "\n",
        "     \n",
        "    #############################################################################            \n",
        "    return pool_out    "
      ]
    },
    {
      "cell_type": "markdown",
      "metadata": {
        "id": "yQofoYuRog9-"
      },
      "source": [
        "Visualize the filtering and pooling results for comparison."
      ]
    },
    {
      "cell_type": "code",
      "execution_count": null,
      "metadata": {
        "id": "Eu4PQyCGw6WD"
      },
      "outputs": [],
      "source": [
        "# fix the random seed\n",
        "torch.manual_seed(6)\n",
        "numpy_return = []\n",
        "\n",
        "# visualize a random 5\n",
        "for i in range(1, 5):\n",
        "    sample_idx = torch.randint(len(train_loader.dataset), size=(1,)).item()\n",
        "    img, label = train_loader.dataset[sample_idx]\n",
        "\n",
        "    out1 = convolution(img.numpy(), filters, stride_size=1, pad_size=0)\n",
        "    out2 = avg_pooling(out1)\n",
        "\n",
        "    visualize_conv(img, out1, out2)\n",
        "    numpy_return.append([out1.copy(), out2.copy()]) # save the result\n",
        "            "
      ]
    },
    {
      "cell_type": "markdown",
      "metadata": {
        "id": "kIORcu9fQyBC"
      },
      "source": [
        "## Convolution + AvgPooling with PyTorch \n",
        "In this part, we create convolution and pooling functions by using PyTorch."
      ]
    },
    {
      "cell_type": "code",
      "execution_count": null,
      "metadata": {
        "id": "0ivPgkIgxVBz"
      },
      "outputs": [],
      "source": [
        "\n",
        "class CNN1(nn.Module):\n",
        "  \"\"\"\n",
        "  A simple convolutional neural network (CNN):\n",
        "    input - convolution - output\n",
        "  \"\"\"  \n",
        "  def __init__(self):\n",
        "    \"\"\"initialize layers\"\"\"\n",
        "    super(CNN1, self).__init__()\n",
        "\n",
        "    #############################################################################\n",
        "    # PLACE YOUR CODE HERE                                                      #\n",
        "    ############################################################################# \n",
        "    # Define a CNN layer with a single channel, 3 filters, and 5 kernel size.\n",
        "    # You should diable using the bias.\n",
        "\n",
        "\n",
        "\n",
        "    ############################################################################# \n",
        "\n",
        "    # Force to set the internal weight using the pre-defined kernels. \n",
        "    with torch.no_grad():\n",
        "        self.conv.weight.data[0][0] = torch.tensor(kernel_1)\n",
        "        self.conv.weight.data[1][0] = torch.tensor(kernel_2)\n",
        "        self.conv.weight.data[2][0] = torch.tensor(kernel_3)        \n",
        "        #self.conv.bias.data.zero_()\n",
        "\n",
        "  def forward(self, x):\n",
        "    \"\"\"forward pass\"\"\"\n",
        "    out = self.conv(x)\n",
        "    return out\n",
        "\n",
        "class CNN2(nn.Module):\n",
        "  \"\"\"\n",
        "  A simple convolutional neural network (CNN):\n",
        "    input - convolution - avg. pooling - output\n",
        "  \"\"\"    \n",
        "  def __init__(self):\n",
        "    \"\"\"initialize layers\"\"\"\n",
        "    super(CNN2, self).__init__()\n",
        "\n",
        "    #############################################################################\n",
        "    # PLACE YOUR CODE HERE                                                      #\n",
        "    ############################################################################# \n",
        "    # Define a CNN layer with a single channel, 3 filters, and 5 kernel size.\n",
        "    # Connect a avg pooling with 2 kernel size. \n",
        "    # You should diable using the bias.\n",
        "    \n",
        "    \n",
        "                                                       #\n",
        "    ############################################################################# \n",
        "\n",
        "    # Force to set the internal weight using the pre-defined kernels. \n",
        "    with torch.no_grad():\n",
        "        self.conv.weight.data[0][0] = torch.tensor(kernel_1)\n",
        "        self.conv.weight.data[1][0] = torch.tensor(kernel_2)\n",
        "        self.conv.weight.data[2][0] = torch.tensor(kernel_3)\n",
        "        #self.conv.bias.data.zero_()\n",
        "\n",
        "  def forward(self, x):\n",
        "    \"\"\"forward pass\"\"\"\n",
        "    out = self.conv(x)\n",
        "    out = self.pool(out)\n",
        "    return out\n",
        "\n",
        "\n",
        "filter_net         = CNN1()\n",
        "filter_pooling_net = CNN2()\n",
        "\n",
        "torch.manual_seed(6)\n",
        "pytorch_return = []\n",
        "for i in range(1, 5):\n",
        "    sample_idx = torch.randint(len(train_loader.dataset), size=(1,)).item()\n",
        "    img, label = train_loader.dataset[sample_idx]\n",
        "    x = img.unsqueeze(0)\n",
        "\n",
        "    out1 = filter_net(x).detach().numpy()[0]\n",
        "    out2 = filter_pooling_net(x).detach().numpy()[0]\n",
        " \n",
        "    visualize_conv(x, out1, out2)\n",
        "    pytorch_return.append([out1.copy(), out2.copy()])"
      ]
    },
    {
      "cell_type": "markdown",
      "metadata": {
        "id": "GyTsRRv56qPQ"
      },
      "source": [
        "To analyze two types of results, you can also compare the stored results, too. "
      ]
    }
  ],
  "metadata": {
    "colab": {
      "provenance": [],
      "include_colab_link": true
    },
    "kernelspec": {
      "display_name": "Python 3.8.10 64-bit",
      "language": "python",
      "name": "python3"
    },
    "language_info": {
      "name": "python",
      "version": "3.8.10"
    },
    "vscode": {
      "interpreter": {
        "hash": "916dbcbb3f70747c44a77c7bcd40155683ae19c65e1c03b4aa3499c5328201f1"
      }
    }
  },
  "nbformat": 4,
  "nbformat_minor": 0
}